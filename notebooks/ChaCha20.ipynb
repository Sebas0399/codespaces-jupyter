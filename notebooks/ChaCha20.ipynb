{
  "cells": [
    {
      "cell_type": "code",
      "execution_count": 2,
      "metadata": {
        "colab": {
          "base_uri": "https://localhost:8080/"
        },
        "id": "LtkudfwK28KH",
        "outputId": "ed5e4483-57eb-45a4-b02e-cd931caca540"
      },
      "outputs": [
        {
          "name": "stdout",
          "output_type": "stream",
          "text": [
            "Requirement already satisfied: cryptography in /home/codespace/.local/lib/python3.10/site-packages (40.0.2)\n",
            "Requirement already satisfied: cffi>=1.12 in /home/codespace/.local/lib/python3.10/site-packages (from cryptography) (1.15.1)\n",
            "Requirement already satisfied: pycparser in /home/codespace/.local/lib/python3.10/site-packages (from cffi>=1.12->cryptography) (2.21)\n",
            "\n",
            "\u001b[1m[\u001b[0m\u001b[34;49mnotice\u001b[0m\u001b[1;39;49m]\u001b[0m\u001b[39;49m A new release of pip is available: \u001b[0m\u001b[31;49m23.1.1\u001b[0m\u001b[39;49m -> \u001b[0m\u001b[32;49m23.1.2\u001b[0m\n",
            "\u001b[1m[\u001b[0m\u001b[34;49mnotice\u001b[0m\u001b[1;39;49m]\u001b[0m\u001b[39;49m To update, run: \u001b[0m\u001b[32;49mpip install --upgrade pip\u001b[0m\n",
            "Note: you may need to restart the kernel to use updated packages.\n"
          ]
        }
      ],
      "source": [
        "pip install cryptography\n"
      ]
    },
    {
      "cell_type": "code",
      "execution_count": 3,
      "metadata": {
        "colab": {
          "base_uri": "https://localhost:8080/"
        },
        "id": "0UtOyy0z2ckP",
        "outputId": "cc6a34d8-22b9-40e0-fda9-1a845c3df3ba"
      },
      "outputs": [
        {
          "name": "stdout",
          "output_type": "stream",
          "text": [
            "Ciphertext: 1ed78ccc809c48fe243253\n",
            "Decrypted text: hola mundo9\n"
          ]
        }
      ],
      "source": [
        "from cryptography.hazmat.primitives.ciphers import Cipher, algorithms\n",
        "from cryptography.hazmat.primitives.ciphers.aead import ChaCha20Poly1305\n",
        "from cryptography.hazmat.backends import default_backend\n",
        "\n",
        "\n",
        "key = b'\\x00' * 32  # Clave de 256 bits (32 bytes)\n",
        "nonce = b'\\x00' * 16  # Nonce de 96 bits (16 bytes)\n",
        "plaintext = b'hola mundo9'\n",
        "\n",
        "def chacha20_encrypt(key, nonce, plaintext):\n",
        "    cipher = Cipher(algorithms.ChaCha20(key, nonce), mode=None)\n",
        "    encryptor = cipher.encryptor()\n",
        "    ciphertext = encryptor.update(plaintext) + encryptor.finalize()\n",
        "    return ciphertext\n",
        "\n",
        "\n",
        "def chacha20_decrypt(key, nonce, ciphertext):\n",
        "    cipher = Cipher(algorithms.ChaCha20(key, nonce), mode=None)\n",
        "    decryptor = cipher.decryptor()\n",
        "    plaintext = decryptor.update(ciphertext) + decryptor.finalize()\n",
        "    return plaintext    \n",
        "\n",
        "\n",
        "ciphertext = chacha20_encrypt(key, nonce, plaintext)\n",
        "print(\"Ciphertext:\", ciphertext.hex())\n",
        "\n",
        "decrypted_text = chacha20_decrypt(key, nonce, ciphertext)\n",
        "print(\"Decrypted text:\", decrypted_text.decode())"
      ]
    }
  ],
  "metadata": {
    "colab": {
      "provenance": []
    },
    "kernelspec": {
      "display_name": "Python 3",
      "name": "python3"
    },
    "language_info": {
      "codemirror_mode": {
        "name": "ipython",
        "version": 3
      },
      "file_extension": ".py",
      "mimetype": "text/x-python",
      "name": "python",
      "nbconvert_exporter": "python",
      "pygments_lexer": "ipython3",
      "version": "3.10.4"
    }
  },
  "nbformat": 4,
  "nbformat_minor": 0
}
