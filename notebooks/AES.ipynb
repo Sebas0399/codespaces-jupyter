{
  "nbformat": 4,
  "nbformat_minor": 0,
  "metadata": {
    "colab": {
      "provenance": []
    },
    "kernelspec": {
      "name": "python3",
      "display_name": "Python 3"
    },
    "language_info": {
      "name": "python"
    }
  },
  "cells": [
    {
      "cell_type": "code",
      "source": [
        "!pip install pycryptodomex"
      ],
      "metadata": {
        "colab": {
          "base_uri": "https://localhost:8080/"
        },
        "id": "L0Lj4tEp14eH",
        "outputId": "99b79176-5c1a-4c90-9020-01eeb5650c60"
      },
      "execution_count": 34,
      "outputs": [
        {
          "output_type": "stream",
          "name": "stdout",
          "text": [
            "Looking in indexes: https://pypi.org/simple, https://us-python.pkg.dev/colab-wheels/public/simple/\n",
            "Requirement already satisfied: pycryptodomex in /usr/local/lib/python3.10/dist-packages (3.18.0)\n"
          ]
        }
      ]
    },
    {
      "cell_type": "code",
      "source": [
        "from Cryptodome.Cipher import AES\n",
        "from Cryptodome.Random import get_random_bytes\n",
        "from Cryptodome.Util.Padding import pad, unpad\n",
        "\n",
        "def aes_encrypt(key, iv, plaintext):\n",
        "    cipher = AES.new(key, AES.MODE_CBC, iv)\n",
        "    ciphertext = cipher.encrypt(pad(plaintext, AES.block_size))\n",
        "    return ciphertext\n",
        "\n",
        "def aes_decrypt(key, iv, ciphertext):\n",
        "    cipher = AES.new(key, AES.MODE_CBC, iv)\n",
        "    plaintext = unpad(cipher.decrypt(ciphertext), AES.block_size)\n",
        "    return plaintext\n",
        "\n",
        "# Generar clave y vector de inicialización (IV)\n",
        "key = get_random_bytes(16)  # Clave de 16 bytes (128 bits)\n",
        "iv = get_random_bytes(AES.block_size)  # IV de tamaño del bloque AES\n",
        "\n",
        "# Texto plano ingresado por el usuario\n",
        "plaintext = input(\"Ingrese el texto plano: \").encode()\n",
        "\n",
        "# Cifrado\n",
        "ciphertext = aes_encrypt(key, iv, plaintext)\n",
        "\n",
        "# Descifrado\n",
        "decrypted_text = aes_decrypt(key, iv, ciphertext)\n",
        "\n",
        "print(\"Texto cifrado:\", ciphertext)\n",
        "print(\"Texto descifrado:\", decrypted_text.decode())"
      ],
      "metadata": {
        "colab": {
          "base_uri": "https://localhost:8080/"
        },
        "id": "OSBmrWKn3tFz",
        "outputId": "08eacb03-b221-4339-85d4-d6c969f81664"
      },
      "execution_count": 36,
      "outputs": [
        {
          "output_type": "stream",
          "name": "stdout",
          "text": [
            "Ingrese el texto plano: mensaje de prueba\n",
            "Texto cifrado: b'\\xb8\\x924\\xeeaX9\\x18\\xc4E\\xc5\\xf2\\x98\\xd0\\x16WM\\xce#\\xb1\\x9c9,>,\\xc8\\x94\\xe6*\\xf7\\xf5\\x8f'\n",
            "Texto descifrado: mensaje de prueba\n"
          ]
        }
      ]
    },
    {
      "cell_type": "code",
      "source": [
        "!pip install pycryptodomex"
      ],
      "metadata": {
        "colab": {
          "base_uri": "https://localhost:8080/"
        },
        "id": "Eu7MYQzhEXLT",
        "outputId": "7432fb29-707e-42e0-e6b8-c0530b739e4b"
      },
      "execution_count": 30,
      "outputs": [
        {
          "output_type": "stream",
          "name": "stdout",
          "text": [
            "Looking in indexes: https://pypi.org/simple, https://us-python.pkg.dev/colab-wheels/public/simple/\n",
            "Requirement already satisfied: pycryptodomex in /usr/local/lib/python3.10/dist-packages (3.18.0)\n"
          ]
        }
      ]
    },
    {
      "cell_type": "code",
      "source": [],
      "metadata": {
        "id": "DAg5qCXKEqoM"
      },
      "execution_count": null,
      "outputs": []
    }
  ]
}